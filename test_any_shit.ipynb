{
 "cells": [
  {
   "cell_type": "code",
   "execution_count": 90,
   "metadata": {},
   "outputs": [],
   "source": [
    "myA=[\n",
    " [1.0, -2.0, 3.0, -4.0],\n",
    " [3.0, 3.0, -5.0, -1.0],\n",
    " [3.0, 0.0, 3.0, -10.0],\n",
    " [-2.0, 1.0, 2.0, -3.0]\n",
    "]\n",
    "\n",
    "myB = [\n",
    " 2.0,\n",
    " -3.0,\n",
    " 8.0,\n",
    " 5.0]\n",
    "# --- end of исходные данные"
   ]
  },
  {
   "cell_type": "code",
   "execution_count": 42,
   "metadata": {},
   "outputs": [],
   "source": [
    "def FirstPrint(A, B):\n",
    "    for row in range(len(A)):\n",
    "        print('(', end='')\n",
    "        for col in range(len(A)):\n",
    "            print(f'{A[row][col]}', end=' ')\n",
    "        print(f') * (x{row}) = ({B[row]})')"
   ]
  },
  {
   "cell_type": "code",
   "execution_count": 60,
   "metadata": {},
   "outputs": [],
   "source": [
    "def RowSwap(A, B, row1, row2):\n",
    "    A[row1], A[row2] = A[row2], A[row1]\n",
    "    B[row1], B[row2] = B[row2], B[row1]"
   ]
  },
  {
   "cell_type": "code",
   "execution_count": 62,
   "metadata": {},
   "outputs": [],
   "source": [
    "def RowDivide(A, B, row, divider):\n",
    "    A[row] = [a / divider for a in A[row]]\n",
    "    B[row] /= divider"
   ]
  },
  {
   "cell_type": "code",
   "execution_count": 87,
   "metadata": {},
   "outputs": [],
   "source": [
    "def RowSum(A, B, row, source_row, coefficient):\n",
    "    C, D = A[source_row], B[source_row]\n",
    "    A[row] = [(a + k * coefficient) for a, k in zip(A[row], A[source_row])]\n",
    "    B[row] += B[source_row] * coefficient"
   ]
  },
  {
   "cell_type": "code",
   "execution_count": 91,
   "metadata": {},
   "outputs": [],
   "source": [
    "RowSum(myA, myB, 0, 1, -1)"
   ]
  },
  {
   "cell_type": "code",
   "execution_count": 92,
   "metadata": {},
   "outputs": [
    {
     "data": {
      "text/plain": [
       "[[-2.0, -5.0, 8.0, -3.0],\n",
       " [3.0, 3.0, -5.0, -1.0],\n",
       " [3.0, 0.0, 3.0, -10.0],\n",
       " [-2.0, 1.0, 2.0, -3.0]]"
      ]
     },
     "execution_count": 92,
     "metadata": {},
     "output_type": "execute_result"
    }
   ],
   "source": [
    "myA"
   ]
  },
  {
   "cell_type": "code",
   "execution_count": null,
   "metadata": {},
   "outputs": [],
   "source": []
  }
 ],
 "metadata": {
  "interpreter": {
   "hash": "6b1cce6ee465f8893f959c3d31798f7d8b057f3b58fc4b57fe2ecc867ac9e8d3"
  },
  "kernelspec": {
   "display_name": "Python 3.9.7 64-bit",
   "language": "python",
   "name": "python3"
  },
  "language_info": {
   "codemirror_mode": {
    "name": "ipython",
    "version": 3
   },
   "file_extension": ".py",
   "mimetype": "text/x-python",
   "name": "python",
   "nbconvert_exporter": "python",
   "pygments_lexer": "ipython3",
   "version": "3.9.7"
  },
  "orig_nbformat": 4
 },
 "nbformat": 4,
 "nbformat_minor": 2
}
