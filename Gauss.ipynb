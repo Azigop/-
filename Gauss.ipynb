{
 "cells": [
  {
   "cell_type": "code",
   "execution_count": 403,
   "metadata": {},
   "outputs": [],
   "source": [
    "import numpy as np"
   ]
  },
  {
   "cell_type": "code",
   "execution_count": 410,
   "metadata": {},
   "outputs": [],
   "source": [
    "myA=[\n",
    " [1, 2, 3],\n",
    " [2, 9, 7],\n",
    " [2, 4, 9]\n",
    "]\n",
    "myB = [\n",
    " 2,\n",
    " 3,\n",
    " 5]\n",
    "\n",
    "A = np.array([[1, 2, 3], [2, 9, 7], [2, 4, 9]])\n",
    "B = np.array([2, 3, 5])"
   ]
  },
  {
   "cell_type": "code",
   "execution_count": 391,
   "metadata": {},
   "outputs": [],
   "source": [
    "def Output(A, B):\n",
    "    for row in range(len(A)):\n",
    "        print('(', end='')\n",
    "        for col in range(len(A[0])):\n",
    "            print(f'{A[row][col]}', end=' ')\n",
    "        print(f') * (x{row+1}) = ({B[row]})')\n",
    "    print('-'*35)"
   ]
  },
  {
   "cell_type": "code",
   "execution_count": 392,
   "metadata": {},
   "outputs": [],
   "source": [
    "def RowSwap(A, B, row1, row2):\n",
    "    A[row1], A[row2] = A[row2], A[row1]\n",
    "    B[row1], B[row2] = B[row2], B[row1]"
   ]
  },
  {
   "cell_type": "code",
   "execution_count": 393,
   "metadata": {},
   "outputs": [],
   "source": [
    "def RowDivide(A, B, row, divider):\n",
    "    A[row] = [a / divider for a in A[row]]\n",
    "    B[row] /= divider"
   ]
  },
  {
   "cell_type": "code",
   "execution_count": 394,
   "metadata": {},
   "outputs": [],
   "source": [
    "def RowSum(A, B, row, source_row, coefficient):\n",
    "    A[row] = [(a + k * coefficient) for a, k in zip(A[row], A[source_row])]\n",
    "    B[row] += B[source_row] * coefficient\n",
    "    "
   ]
  },
  {
   "cell_type": "code",
   "execution_count": 395,
   "metadata": {},
   "outputs": [],
   "source": [
    "def del_Zero_Row(array1, array2):\n",
    "    for o in range(len(array1)):\n",
    "        b = []\n",
    "        k = [0] * len(array1)\n",
    "        if array1[o] == k:\n",
    "            b.append(o)\n",
    "    for p in b:\n",
    "        array1.pop(p)\n",
    "        array2.pop(p)"
   ]
  },
  {
   "cell_type": "code",
   "execution_count": 409,
   "metadata": {},
   "outputs": [],
   "source": [
    "def Gauss(A, B):\n",
    "    column = 0\n",
    "    while column < len(B):\n",
    "        RowDivide(A, B, column, A[column][column])\n",
    "        Output(A, B)\n",
    "        for i in range(len(A) - 1 - column):\n",
    "            RowSum(A, B, i+1+column, column, -A[i + 1 + column][column])\n",
    "        #del_Zero_Row(A, B) (не придумал как вставить нормально)\n",
    "        Output(A, B)\n",
    "        column += 1\n",
    "    X = [0 for b in B]\n",
    "    for i in range(len(B)-1, -1, -1):\n",
    "        X[i] = B[i] - sum(x * a for x, a in zip(X[(i + 1):], A[i][(i + 1):]))\n",
    "    for i in range(len(X)):\n",
    "        print(f'x{i+1} = {round(X[i], 2)}')\n",
    "\n",
    "    \n",
    "    \n",
    "    \n",
    "\n",
    "    \n",
    "\n",
    "    \n",
    "    \n"
   ]
  },
  {
   "cell_type": "code",
   "execution_count": 411,
   "metadata": {},
   "outputs": [
    {
     "name": "stdout",
     "output_type": "stream",
     "text": [
      "(1.0 2.0 3.0 ) * (x1) = (2.0)\n",
      "(2 9 7 ) * (x2) = (3)\n",
      "(2 4 9 ) * (x3) = (5)\n",
      "-----------------------------------\n",
      "(1.0 2.0 3.0 ) * (x1) = (2.0)\n",
      "(0.0 5.0 1.0 ) * (x2) = (-1.0)\n",
      "(0.0 0.0 3.0 ) * (x3) = (1.0)\n",
      "-----------------------------------\n",
      "(1.0 2.0 3.0 ) * (x1) = (2.0)\n",
      "(0.0 1.0 0.2 ) * (x2) = (-0.2)\n",
      "(0.0 0.0 3.0 ) * (x3) = (1.0)\n",
      "-----------------------------------\n",
      "(1.0 2.0 3.0 ) * (x1) = (2.0)\n",
      "(0.0 1.0 0.2 ) * (x2) = (-0.2)\n",
      "(0.0 0.0 3.0 ) * (x3) = (1.0)\n",
      "-----------------------------------\n",
      "(1.0 2.0 3.0 ) * (x1) = (2.0)\n",
      "(0.0 1.0 0.2 ) * (x2) = (-0.2)\n",
      "(0.0 0.0 1.0 ) * (x3) = (0.3333333333333333)\n",
      "-----------------------------------\n",
      "(1.0 2.0 3.0 ) * (x1) = (2.0)\n",
      "(0.0 1.0 0.2 ) * (x2) = (-0.2)\n",
      "(0.0 0.0 1.0 ) * (x3) = (0.3333333333333333)\n",
      "-----------------------------------\n",
      "x1 = 1.53\n",
      "x2 = -0.27\n",
      "x3 = 0.33\n"
     ]
    }
   ],
   "source": [
    "Gauss(myA, myB)"
   ]
  },
  {
   "cell_type": "code",
   "execution_count": 412,
   "metadata": {},
   "outputs": [],
   "source": [
    "def Gauss_numpy_check(array1, array2):\n",
    "    X = np.linalg.solve(array1,array2)\n",
    "    for i in range(len(X)):\n",
    "        print(f'x{i+1} = {round(X[i], 2)}')\n"
   ]
  },
  {
   "cell_type": "code",
   "execution_count": 413,
   "metadata": {},
   "outputs": [
    {
     "name": "stdout",
     "output_type": "stream",
     "text": [
      "x1 = 1.53\n",
      "x2 = -0.27\n",
      "x3 = 0.33\n"
     ]
    }
   ],
   "source": [
    "Gauss_numpy_check(A, B)"
   ]
  },
  {
   "cell_type": "code",
   "execution_count": null,
   "metadata": {},
   "outputs": [],
   "source": []
  }
 ],
 "metadata": {
  "interpreter": {
   "hash": "6b1cce6ee465f8893f959c3d31798f7d8b057f3b58fc4b57fe2ecc867ac9e8d3"
  },
  "kernelspec": {
   "display_name": "Python 3.9.7 64-bit",
   "language": "python",
   "name": "python3"
  },
  "language_info": {
   "codemirror_mode": {
    "name": "ipython",
    "version": 3
   },
   "file_extension": ".py",
   "mimetype": "text/x-python",
   "name": "python",
   "nbconvert_exporter": "python",
   "pygments_lexer": "ipython3",
   "version": "3.9.7"
  },
  "orig_nbformat": 4
 },
 "nbformat": 4,
 "nbformat_minor": 2
}
